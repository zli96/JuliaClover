{
 "cells": [
  {
   "cell_type": "code",
   "execution_count": 8,
   "metadata": {},
   "outputs": [
    {
     "data": {
      "text/plain": [
       "1×6 Array{Float64,2}:\n",
       " 0.3  0.35  0.4  0.375  0.38  0.4"
      ]
     },
     "metadata": {},
     "output_type": "display_data"
    },
    {
     "data": {
      "text/plain": [
       "2×6 Array{Float64,2}:\n",
       " 0.3  0.35  0.4       0.375     0.38   0.4     \n",
       " 0.0  0.12  0.156667  0.138333  0.143  0.158667"
      ]
     },
     "metadata": {},
     "output_type": "display_data"
    },
    {
     "data": {
      "text/plain": [
       "3×6 Array{Float64,2}:\n",
       " 0.3  0.35  0.4       0.375     0.38    0.4     \n",
       " 0.0  0.12  0.156667  0.138333  0.143   0.158667\n",
       " 0.0  0.0   0.06      0.05025   0.0533  0.0624  "
      ]
     },
     "metadata": {},
     "output_type": "display_data"
    },
    {
     "data": {
      "text/plain": [
       "4×6 Array{Float64,2}:\n",
       " 0.3  0.35  0.4       0.375     0.38     0.4      \n",
       " 0.0  0.12  0.156667  0.138333  0.143    0.158667 \n",
       " 0.0  0.0   0.06      0.05025   0.0533   0.0624   \n",
       " 0.0  0.0   0.0       0.018     0.01968  0.0243267"
      ]
     },
     "metadata": {},
     "output_type": "display_data"
    },
    {
     "data": {
      "text/plain": [
       "5×6 Array{Float64,2}:\n",
       " 0.3  0.35  0.4       0.375     0.38     0.4      \n",
       " 0.0  0.12  0.156667  0.138333  0.143    0.158667 \n",
       " 0.0  0.0   0.06      0.05025   0.0533   0.0624   \n",
       " 0.0  0.0   0.0       0.018     0.01968  0.0243267\n",
       " 0.0  0.0   0.0       0.0       0.0072   0.0094   "
      ]
     },
     "metadata": {},
     "output_type": "display_data"
    },
    {
     "data": {
      "text/plain": [
       "6×6 Array{Float64,2}:\n",
       " 0.3  0.35  0.4       0.375     0.38     0.4      \n",
       " 0.0  0.12  0.156667  0.138333  0.143    0.158667 \n",
       " 0.0  0.0   0.06      0.05025   0.0533   0.0624   \n",
       " 0.0  0.0   0.0       0.018     0.01968  0.0243267\n",
       " 0.0  0.0   0.0       0.0       0.0072   0.0094   \n",
       " 0.0  0.0   0.0       0.0       0.0      0.0036   "
      ]
     },
     "metadata": {},
     "output_type": "display_data"
    },
    {
     "data": {
      "text/plain": [
       "0.10973222222222222"
      ]
     },
     "execution_count": 8,
     "metadata": {},
     "output_type": "execute_result"
    }
   ],
   "source": [
    "using Statistics\n",
    "function Combine_Score(scores)\n",
    "    combinationScores = []\n",
    "    n = length(scores)\n",
    "    for i in 1:n # get combined score for the scenario where the motif appear in i sequences\n",
    "        A = ones(i, n) # This is the dp matrix. the A_i_n element in the matrix will give us the final answer\n",
    "        for x in 1:i\n",
    "            for y in 1:n\n",
    "                if(x > y)\n",
    "                    A[x, y] = 0\n",
    "                elseif(x == 1)\n",
    "                    if(y == 1)\n",
    "                        A[x, y] = (x * scores[y] * 1 + (y-x) * 0) / y\n",
    "                    else\n",
    "                        A[x, y] = (x * scores[y] * 1 + (y-x) * A[x,(y-1)]) / y\n",
    "                    end\n",
    "                else\n",
    "                    A[x, y] = (x * scores[y] * A[(x-1),(y-1)] + (y-x) * A[x,(y-1)]) / y\n",
    "                end\n",
    "            end\n",
    "        end\n",
    "        push!(combinationScores, A[i, n])\n",
    "    end\n",
    "    return mean(combinationScores)\n",
    "end\n",
    "\n",
    "a = [0.3, 0.4, 0.5, 0.3, 0.4, 0.5]\n",
    "Combine_Score(a)"
   ]
  },
  {
   "cell_type": "code",
   "execution_count": 4,
   "metadata": {},
   "outputs": [
    {
     "data": {
      "text/plain": [
       "2×3 Array{Int64,2}:\n",
       " 1  2  3\n",
       " 4  5  6"
      ]
     },
     "metadata": {},
     "output_type": "display_data"
    },
    {
     "data": {
      "text/plain": [
       "4"
      ]
     },
     "execution_count": 4,
     "metadata": {},
     "output_type": "execute_result"
    }
   ],
   "source": [
    "a = [[1 2 3];[4 5 6]]\n",
    "display(a)\n",
    "a[2,1]"
   ]
  },
  {
   "cell_type": "code",
   "execution_count": null,
   "metadata": {},
   "outputs": [],
   "source": []
  }
 ],
 "metadata": {
  "kernelspec": {
   "display_name": "Julia 1.2.0",
   "language": "julia",
   "name": "julia-1.2"
  },
  "language_info": {
   "file_extension": ".jl",
   "mimetype": "application/julia",
   "name": "julia",
   "version": "1.2.0"
  }
 },
 "nbformat": 4,
 "nbformat_minor": 2
}
