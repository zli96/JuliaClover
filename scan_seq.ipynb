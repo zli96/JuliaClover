{
 "cells": [
  {
   "cell_type": "code",
   "execution_count": 67,
   "metadata": {},
   "outputs": [
    {
     "name": "stdout",
     "output_type": "stream",
     "text": [
      "0.1679880145833333"
     ]
    },
    {
     "data": {
      "text/plain": [
       "0.1679880145833333"
      ]
     },
     "execution_count": 67,
     "metadata": {},
     "output_type": "execute_result"
    }
   ],
   "source": [
    "seq = Vector{Int64}()\n",
    "seq = [1 3 3 3 2 0 1 2 1 3 2 1 2 0 0 2 1 2 3]\n",
    "motif = [[0.4 0.143 0.144 0.4;\n",
    "        0.2 0.286 0.286 0.2;\n",
    "        0.2 0.286 0.286 0.2;\n",
    "        0.2 0.286 0.286 0.2] \n",
    "    [0.4 0.145 0.146 0.4;\n",
    "        0.2 0.286 0.286 0.2;\n",
    "        0.2 0.286 0.286 0.2;\n",
    "        0.2 0.286 0.286 0.2]]\n",
    "\n",
    "b_probs = Vector{Float64}()\n",
    "b_probs = [0.3 0.1 0.5 0.1]\n",
    "motnum=1 #temp\n",
    "seqnum=1 #temp\n",
    "hit_thresh=6 \n",
    "\n",
    "struct hit\n",
    "    motif #index of motif\n",
    "    strand #0 or 1: palindromes??\n",
    "    location\n",
    "    score\n",
    "end\n",
    "\n",
    "hits = Vector{hit}( [ hit(1,0,3,345),hit(2,1,4,234) ] )\n",
    "\n",
    "\n",
    "function scan_seq(seq, motif, b_probs, seqnum, motnum, hit_thresh)\n",
    "    tot_score=0\n",
    "    \n",
    "    m_max=convert(Int64,size(motif)[1]/4)\n",
    "    for m in 1:m_max\n",
    "        pssm = zeros(Float64, (size(motif)[2], 4))#size(motif)[2] is row num\n",
    "        row_max = convert(Int64,size(motif)[2])\n",
    "        for row in 1:row_max\n",
    "            for col in 1:4\n",
    "                pssm[row,col] = motif[row+4*(m-1),col]\n",
    "            end\n",
    "        end\n",
    "        \n",
    "        if(size(pssm)[2] > length(seq))\n",
    "            continue\n",
    "        end\n",
    "        \n",
    "        for r in 1:row_max\n",
    "            for c in 1:4\n",
    "                pssm[r,c] /= b_probs[c]\n",
    "            end\n",
    "        end\n",
    "        \n",
    "        #finally, scan the PSSM against the sequence:\n",
    "        score = 0\n",
    "        posns = length(seq) - row_max +1 #last possible beginning point for current motif in seq\n",
    "        \n",
    "        for n in 1:posns\n",
    "            s=1\n",
    "            #for (uint k = 0; k < pssm.rows(); ++k)\n",
    "               #s *= pssm[k][*(n+k)];\n",
    "            #print(seq[1+1],\"test\\n\")\n",
    "            for k in 1:row_max-1\n",
    "                s *= pssm[k,seq[n+k]+1]\n",
    "            end\n",
    "            score += s\n",
    "            \n",
    "            #hits[seqnum].push_back(hit(motnum, m, n - seq.begin(), s));\n",
    "            #vector<vector<hit> > hits;  // motif locations in each sequence\n",
    "            hits = Vector{}()\n",
    "            if(seqnum!=0 && log(2,s)>= hit_thresh)\n",
    "                push!(hits,hit(motnum,m,n-seq[1],s))#??\n",
    "            end\n",
    "        end\n",
    "        \n",
    "        tot_score += (score/posns/length(motif))\n",
    "                                          \n",
    "    end\n",
    "    \n",
    "    print(tot_score)\n",
    "   return tot_score \n",
    "end\n",
    "\n",
    "\n",
    "scan_seq(seq, motif, b_probs, seqnum, motnum, hit_thresh)\n"
   ]
  }
 ],
 "metadata": {
  "kernelspec": {
   "display_name": "Julia 1.2.0",
   "language": "julia",
   "name": "julia-1.2"
  },
  "language_info": {
   "file_extension": ".jl",
   "mimetype": "application/julia",
   "name": "julia",
   "version": "1.2.0"
  }
 },
 "nbformat": 4,
 "nbformat_minor": 2
}
