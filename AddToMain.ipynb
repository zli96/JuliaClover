{
 "cells": [
  {
   "cell_type": "code",
   "execution_count": 9,
   "metadata": {},
   "outputs": [
    {
     "ename": "UndefVarError",
     "evalue": "UndefVarError: bg_seqs not defined",
     "output_type": "error",
     "traceback": [
      "UndefVarError: bg_seqs not defined",
      "",
      "Stacktrace:",
      " [1] top-level scope at In[9]:36"
     ]
    }
   ],
   "source": [
    "bg_seq = [[0x1,0x2],[0x3,0x2],[0x1,0x0]]\n",
    "frag = [0x1,0x0,0x2]\n",
    "len = 0x3\n",
    "frag_num = [0x3,0x1,0x3]\n",
    "frag_tot = 0x3\n",
    "                        \n",
    "function bg_fragment(bg_seqs, frag, len, frag_num, frag_tot)\n",
    "    b = 1 #select which bg seq\n",
    "    r = rand(1:frag_tot)\n",
    "    for b in 1:length(bg_seq)\n",
    "        if(frag_num[b]>r)\n",
    "            break\n",
    "        end\n",
    "        r -= frag_num[b]\n",
    "    end\n",
    "    \n",
    "    if(b == length(bg_seqs))\n",
    "        return\n",
    "    end\n",
    "    \n",
    "    p =  Vector{UInt}()\n",
    "    posns = length(bg_seqs[b]) - len + 1\n",
    "    \n",
    "    push!(p,bg_seqs[b][1]+rand(1:posns)) \n",
    "    for p in p+len\n",
    "        if(bg_seqs[b][p]==UInt8(4)&& p!= p+len)\n",
    "            push!(p,bg_seqs[b][1]+rand(1:posns))\n",
    "        end\n",
    "    end\n",
    "    \n",
    "    for i in 1:p\n",
    "        push!(frag,p+len)\n",
    "    end\n",
    "    return\n",
    "end\n",
    "bg_fragment(bg_seqs, frag, len, frag_num, frag_tot)\n"
   ]
  },
  {
   "cell_type": "code",
   "execution_count": null,
   "metadata": {},
   "outputs": [],
   "source": [
    "myseqs = [[0x1,0x2],[0x3,0x2],[0x1,0x0]]\n",
    "motifs=[[[0.0010266940451745382, 0.9661190965092404, 0.011293634496919922, 0.021560574948665305, 0.0], [0.031827515400410684, 0.7710472279260782, 0.0010266940451745382, 0.1960985626283368, 0.0], [0.8121149897330597, 0.042094455852156064, 0.031827515400410684, 0.11396303901437374, 0.0], [0.4117043121149897, 0.03182751540041068, 0.04209445585215605, 0.5143737166324435, 0.0], [0.6786447638603698, 0.011293634496919922, 0.011293634496919922, 0.2987679671457906, 0.0], [0.49383983572895274, 0.021560574948665298, 0.001026694045174538, 0.48357289527720737, 0.0], [0.6683778234086243, 0.05236139630390144, 0.05236139630390144, 0.22689938398357296, 0.0], [0.11396303901437373, 0.0215605749486653, 0.031827515400410684, 0.8326488706365504, 0.0], [0.6683778234086243, 0.031827515400410684, 0.28850102669404526, 0.011293634496919922, 0.0], [0.0010266940451745382, 0.031827515400410684, 0.904517453798768, 0.06262833675564682, 0.0]], [[0.06262833675564682, 0.904517453798768, 0.031827515400410684, 0.0010266940451745382, 0.0], [0.011293634496919922, 0.28850102669404526, 0.031827515400410684, 0.6683778234086243, 0.0], [0.8326488706365504, 0.031827515400410684, 0.0215605749486653, 0.11396303901437373, 0.0], [0.22689938398357296, 0.05236139630390144, 0.05236139630390144, 0.6683778234086243, 0.0], [0.48357289527720737, 0.001026694045174538, 0.021560574948665298, 0.49383983572895274, 0.0], [0.2987679671457906, 0.011293634496919922, 0.011293634496919922, 0.6786447638603698, 0.0], [0.5143737166324435, 0.04209445585215605, 0.03182751540041068, 0.4117043121149897, 0.0], [0.11396303901437374, 0.031827515400410684, 0.042094455852156064, 0.8121149897330597, 0.0], [0.1960985626283368, 0.0010266940451745382, 0.7710472279260782, 0.031827515400410684, 0.0], [0.021560574948665305, 0.011293634496919922, 0.9661190965092404, 0.0010266940451745382, 0.0]]]\n",
    "b_probs = Vector{Float64}()\n",
    "b_probs = [0.3 0.1 0.5 0.1]\n",
    "losses = [0x1,0x2,0x0,0x0]\n",
    "\n",
    "function rand_test(myseqs, b_probs, motifs, losses)\n",
    "    for m in 1:length(motifs)\n",
    "        scores = Vector{Float64}()\n",
    "        for s in 1:length(myseqs)\n",
    "            push!(scores,scan_seq(myseqs[s], motifs[m], b_probs[s]))\n",
    "        end\n",
    "        raw = combine_scores(scores)\n",
    "        if (raw >= results[m].raw_score)#notes:no result[m]\n",
    "          losses[m]+=1;\n",
    "    end\n",
    "end"
   ]
  },
  {
   "cell_type": "code",
   "execution_count": 6,
   "metadata": {},
   "outputs": [
    {
     "name": "stdout",
     "output_type": "stream",
     "text": [
      "UInt8[0x01, 0x04]"
     ]
    }
   ],
   "source": [
    "source = [0x1,0x4]\n",
    "dest = [0x1,0x0]\n",
    "function copy_mask(source, dest)\n",
    "    for i in 1:length(source)\n",
    "        if(source[i]==UInt8(4))\n",
    "            dest[i] = UInt8(4)\n",
    "        end\n",
    "    end\n",
    "end\n",
    "copy_mask(source, dest)"
   ]
  },
  {
   "cell_type": "code",
   "execution_count": null,
   "metadata": {},
   "outputs": [],
   "source": []
  }
 ],
 "metadata": {
  "kernelspec": {
   "display_name": "Julia 1.2.0",
   "language": "julia",
   "name": "julia-1.2"
  },
  "language_info": {
   "file_extension": ".jl",
   "mimetype": "application/julia",
   "name": "julia",
   "version": "1.2.0"
  }
 },
 "nbformat": 4,
 "nbformat_minor": 2
}
