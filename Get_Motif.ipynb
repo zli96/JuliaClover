{
 "cells": [
  {
   "cell_type": "code",
   "execution_count": 59,
   "metadata": {},
   "outputs": [
    {
     "data": {
      "text/plain": [
       "Normalize (generic function with 2 methods)"
      ]
     },
     "execution_count": 59,
     "metadata": {},
     "output_type": "execute_result"
    }
   ],
   "source": [
    "function Get_Single_Strand_Motifs(fileName)\n",
    "    ssPFMs = []\n",
    "    currentPFM = []\n",
    "    open(fileName) do file\n",
    "        while !eof(file)\n",
    "            line = readline(file)\n",
    "            if(line[1:1] == \">\")\n",
    "                if(length(currentPFM) > 0) # empty matrix with a title is skipped\n",
    "                    push!(ssPFMs, currentPFM)\n",
    "                    currentPFM = []\n",
    "                end\n",
    "            elseif(line[1:1] == \"#\")\n",
    "                #do nothing since this line is comment\n",
    "            else\n",
    "                counts = split(line, r\"\\s\")\n",
    "                if(length(counts) == 4) #each line should only have 4 numbers seperated by spaces \n",
    "                    row = []\n",
    "                    for count in counts\n",
    "                        d = parse(Int, count)\n",
    "                        push!(row, d)\n",
    "                    end\n",
    "                    push!(currentPFM, row)\n",
    "                else\n",
    "                    println(line)\n",
    "                    println(\"this line has $(length(counts)) elements\")\n",
    "                end\n",
    "                if(eof(file))\n",
    "                    push!(ssPFMs, currentPFM)\n",
    "                end\n",
    "            end                \n",
    "        end\n",
    "    end\n",
    "    println(length(ssPFMs))\n",
    "end\n",
    "\n",
    "function Normalize(matrix, psuedoCount)\n",
    "    nrow = length(matrix)\n",
    "    ncol = length(matrix[1])\n",
    "    row = ones(ncol) * psuedoCount\n",
    "    psuedoMatrix = []\n",
    "    for i in 1:nrow\n",
    "        push!(psuedoMatrix, row)\n",
    "    end\n",
    "    newMatrix = matrix + psuedoMatrix\n",
    "    return Normalize(newMatrix)\n",
    "end\n",
    "\n",
    "function Normalize(matrix)\n",
    "    normalizedMatrix = []\n",
    "    for row in matrix\n",
    "        row = row/sum(row)\n",
    "        push!(normalizedMatrix, row)\n",
    "    end\n",
    "    return normalizedMatrix\n",
    "end\n",
    "\n",
    "function Get_Double_Strand_Motifs(singleStrandMotifs)\n",
    "    doubleStrandMotifs = []\n",
    "    for motif in singleStrandMotifs\n",
    "        \n",
    "end"
   ]
  },
  {
   "cell_type": "code",
   "execution_count": 55,
   "metadata": {},
   "outputs": [
    {
     "name": "stdout",
     "output_type": "stream",
     "text": [
      "459\n"
     ]
    }
   ],
   "source": [
    "Get_Motifs(\"jaspar2009core.fa\")"
   ]
  },
  {
   "cell_type": "code",
   "execution_count": 60,
   "metadata": {},
   "outputs": [
    {
     "name": "stdout",
     "output_type": "stream",
     "text": [
      "[1.0 1.0 1.0 1.0; 1.0 1.0 1.0 1.0]\n",
      "Any[[0.15, 0.05, 0.35, 0.45], [0.25, 0.022727272727272728, 0.3409090909090909, 0.38636363636363635]]\n"
     ]
    }
   ],
   "source": [
    "\n",
    "println(ones(2,4))\n",
    "a = [[1,0,3,4], [5,0,7,8]]\n",
    "b = Normalize(a, 0.5)\n",
    "println(b)\n"
   ]
  },
  {
   "cell_type": "code",
   "execution_count": null,
   "metadata": {},
   "outputs": [],
   "source": []
  }
 ],
 "metadata": {
  "kernelspec": {
   "display_name": "Julia 1.2.0",
   "language": "julia",
   "name": "julia-1.2"
  },
  "language_info": {
   "file_extension": ".jl",
   "mimetype": "application/julia",
   "name": "julia",
   "version": "1.2.0"
  }
 },
 "nbformat": 4,
 "nbformat_minor": 2
}
