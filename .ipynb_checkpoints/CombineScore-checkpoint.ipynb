{
 "cells": [
  {
   "cell_type": "code",
   "execution_count": 33,
   "metadata": {},
   "outputs": [
    {
     "data": {
      "text/plain": [
       "Get_Motifs (generic function with 1 method)"
      ]
     },
     "execution_count": 33,
     "metadata": {},
     "output_type": "execute_result"
    }
   ],
   "source": [
    "function Get_Motifs(fileName)\n",
    "    ssPFMs = []\n",
    "    currentPFM = []\n",
    "    open(fileName) do file\n",
    "        while !eof(file)\n",
    "            line = readline(file)\n",
    "            if(line[1:1] == \">\")\n",
    "                if(length(currentPFM) > 0) # empty matrix with a title is skipped\n",
    "                    push!(ssPFMs, currentPFM)\n",
    "                    currentPFM = []\n",
    "                end\n",
    "            elseif(line[1:1] == \"#\")\n",
    "                #do nothing since this line is comment\n",
    "            else\n",
    "                counts = split(line, r\"\\s\")\n",
    "                if(length(counts) == 4) #each line should only have 4 numbers seperated by spaces \n",
    "                    row = []\n",
    "                    for count in counts\n",
    "                        d = parse(Int, count)\n",
    "                        push!(row, d)\n",
    "                    end\n",
    "                    push!(currentPFM, row)\n",
    "                else\n",
    "                    println(line)\n",
    "                    println(\"this line has $(length(counts)) elements\")\n",
    "                end\n",
    "                if(eof(file))\n",
    "                    push!(ssPFMs, currentPFM)\n",
    "                end\n",
    "            end                \n",
    "        end\n",
    "    end\n",
    "    println(length(ssPFMs))\n",
    "end\n",
    "\n"
   ]
  },
  {
   "cell_type": "code",
   "execution_count": 34,
   "metadata": {},
   "outputs": [
    {
     "name": "stdout",
     "output_type": "stream",
     "text": [
      "459\n"
     ]
    }
   ],
   "source": [
    "Get_Motifs(\"jaspar2009core.fa\")"
   ]
  },
  {
   "cell_type": "code",
   "execution_count": 35,
   "metadata": {},
   "outputs": [
    {
     "ename": "SystemError",
     "evalue": "SystemError: opening file \"stet\": No such file or directory",
     "output_type": "error",
     "traceback": [
      "SystemError: opening file \"stet\": No such file or directory",
      "",
      "Stacktrace:",
      " [1] #systemerror#44(::Nothing, ::typeof(systemerror), ::String, ::Bool) at .\\error.jl:134",
      " [2] systemerror at .\\error.jl:134 [inlined]",
      " [3] #open#311(::Nothing, ::Nothing, ::Nothing, ::Nothing, ::Nothing, ::typeof(open), ::String) at .\\iostream.jl:289",
      " [4] open at .\\iostream.jl:281 [inlined]",
      " [5] #open#312(::Base.Iterators.Pairs{Union{},Union{},Tuple{},NamedTuple{(),Tuple{}}}, ::typeof(open), ::getfield(Main, Symbol(\"##33#34\")), ::String) at .\\iostream.jl:373",
      " [6] open(::Function, ::String) at .\\iostream.jl:373",
      " [7] top-level scope at In[35]:1"
     ]
    }
   ],
   "source": [
    "open(\"stet\") do file\n",
    "    println(\"hehe\")\n",
    "end"
   ]
  },
  {
   "cell_type": "code",
   "execution_count": null,
   "metadata": {},
   "outputs": [],
   "source": []
  }
 ],
 "metadata": {
  "kernelspec": {
   "display_name": "Julia 1.2.0",
   "language": "julia",
   "name": "julia-1.2"
  },
  "language_info": {
   "file_extension": ".jl",
   "mimetype": "application/julia",
   "name": "julia",
   "version": "1.2.0"
  }
 },
 "nbformat": 4,
 "nbformat_minor": 2
}
