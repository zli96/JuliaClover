{
 "cells": [
  {
   "cell_type": "code",
   "execution_count": 1,
   "metadata": {},
   "outputs": [
    {
     "ename": "ErrorException",
     "evalue": "type Int64 has no field num",
     "output_type": "error",
     "traceback": [
      "type Int64 has no field num",
      "",
      "Stacktrace:",
      " [1] getproperty(::Any, ::Symbol) at .\\Base.jl:20",
      " [2] top-level scope at In[1]:11"
     ]
    }
   ],
   "source": [
    "struct H\n",
    "    num::Int64\n",
    "    num2::Int64\n",
    "    function H(a)\n",
    "        num2 = a[1]\n",
    "        num = length(a)\n",
    "    end\n",
    "end\n",
    "\n",
    "a = H([1,2,3])\n",
    "a.num"
   ]
  },
  {
   "cell_type": "code",
   "execution_count": null,
   "metadata": {},
   "outputs": [],
   "source": []
  }
 ],
 "metadata": {
  "kernelspec": {
   "display_name": "Julia 1.2.0",
   "language": "julia",
   "name": "julia-1.2"
  },
  "language_info": {
   "file_extension": ".jl",
   "mimetype": "application/julia",
   "name": "julia",
   "version": "1.2.0"
  }
 },
 "nbformat": 4,
 "nbformat_minor": 2
}
